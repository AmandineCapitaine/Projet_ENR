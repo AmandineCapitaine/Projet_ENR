{
 "cells": [
  {
   "cell_type": "markdown",
   "id": "6aad8e0d",
   "metadata": {},
   "source": [
    "# Projet de modélisation d'un mix énergétique issu 100% d'ENR"
   ]
  },
  {
   "cell_type": "markdown",
   "id": "5c0b3b66",
   "metadata": {},
   "source": [
    "## III. Simulations du modèle sur l'optimisation du coût du mix énergétique"
   ]
  },
  {
   "cell_type": "markdown",
   "id": "f8f22417",
   "metadata": {},
   "source": [
    "### Imports"
   ]
  },
  {
   "cell_type": "code",
   "execution_count": 1,
   "id": "8da8a8c5",
   "metadata": {},
   "outputs": [
    {
     "data": {
      "application/javascript": [
       "\n",
       "(function(root) {\n",
       "  function now() {\n",
       "    return new Date();\n",
       "  }\n",
       "\n",
       "  var force = true;\n",
       "\n",
       "  if (typeof root._bokeh_onload_callbacks === \"undefined\" || force === true) {\n",
       "    root._bokeh_onload_callbacks = [];\n",
       "    root._bokeh_is_loading = undefined;\n",
       "  }\n",
       "\n",
       "  if (typeof (root._bokeh_timeout) === \"undefined\" || force === true) {\n",
       "    root._bokeh_timeout = Date.now() + 5000;\n",
       "    root._bokeh_failed_load = false;\n",
       "  }\n",
       "\n",
       "  function run_callbacks() {\n",
       "    try {\n",
       "      root._bokeh_onload_callbacks.forEach(function(callback) {\n",
       "        if (callback != null)\n",
       "          callback();\n",
       "      });\n",
       "    } finally {\n",
       "      delete root._bokeh_onload_callbacks\n",
       "    }\n",
       "    console.debug(\"Bokeh: all callbacks have finished\");\n",
       "  }\n",
       "\n",
       "  function load_libs(css_urls, js_urls, js_modules, callback) {\n",
       "    if (css_urls == null) css_urls = [];\n",
       "    if (js_urls == null) js_urls = [];\n",
       "    if (js_modules == null) js_modules = [];\n",
       "\n",
       "    root._bokeh_onload_callbacks.push(callback);\n",
       "    if (root._bokeh_is_loading > 0) {\n",
       "      console.debug(\"Bokeh: BokehJS is being loaded, scheduling callback at\", now());\n",
       "      return null;\n",
       "    }\n",
       "    if (js_urls.length === 0 && js_modules.length === 0) {\n",
       "      run_callbacks();\n",
       "      return null;\n",
       "    }\n",
       "    console.debug(\"Bokeh: BokehJS not loaded, scheduling load and callback at\", now());\n",
       "\n",
       "    function on_load() {\n",
       "      root._bokeh_is_loading--;\n",
       "      if (root._bokeh_is_loading === 0) {\n",
       "        console.debug(\"Bokeh: all BokehJS libraries/stylesheets loaded\");\n",
       "        run_callbacks()\n",
       "      }\n",
       "    }\n",
       "\n",
       "    function on_error() {\n",
       "      console.error(\"failed to load \" + url);\n",
       "    }\n",
       "\n",
       "    for (var i = 0; i < css_urls.length; i++) {\n",
       "      var url = css_urls[i];\n",
       "      const element = document.createElement(\"link\");\n",
       "      element.onload = on_load;\n",
       "      element.onerror = on_error;\n",
       "      element.rel = \"stylesheet\";\n",
       "      element.type = \"text/css\";\n",
       "      element.href = url;\n",
       "      console.debug(\"Bokeh: injecting link tag for BokehJS stylesheet: \", url);\n",
       "      document.body.appendChild(element);\n",
       "    }\n",
       "\n",
       "    var skip = [];\n",
       "    if (window.requirejs) {\n",
       "      window.requirejs.config({'packages': {}, 'paths': {}, 'shim': {}});\n",
       "      \n",
       "      root._bokeh_is_loading = css_urls.length + 0;\n",
       "    } else {\n",
       "      root._bokeh_is_loading = css_urls.length + js_urls.length + js_modules.length;\n",
       "    }\n",
       "    for (var i = 0; i < js_urls.length; i++) {\n",
       "      var url = js_urls[i];\n",
       "      if (skip.indexOf(url) >= 0) {\n",
       "\tif (!window.requirejs) {\n",
       "\t  on_load();\n",
       "\t}\n",
       "\tcontinue;\n",
       "      }\n",
       "      var element = document.createElement('script');\n",
       "      element.onload = on_load;\n",
       "      element.onerror = on_error;\n",
       "      element.async = false;\n",
       "      element.src = url;\n",
       "      console.debug(\"Bokeh: injecting script tag for BokehJS library: \", url);\n",
       "      document.head.appendChild(element);\n",
       "    }\n",
       "    for (var i = 0; i < js_modules.length; i++) {\n",
       "      var url = js_modules[i];\n",
       "      if (skip.indexOf(url) >= 0) {\n",
       "\tif (!window.requirejs) {\n",
       "\t  on_load();\n",
       "\t}\n",
       "\tcontinue;\n",
       "      }\n",
       "      var element = document.createElement('script');\n",
       "      element.onload = on_load;\n",
       "      element.onerror = on_error;\n",
       "      element.async = false;\n",
       "      element.src = url;\n",
       "      element.type = \"module\";\n",
       "      console.debug(\"Bokeh: injecting script tag for BokehJS library: \", url);\n",
       "      document.head.appendChild(element);\n",
       "    }\n",
       "    if (!js_urls.length && !js_modules.length) {\n",
       "      on_load()\n",
       "    }\n",
       "  };\n",
       "\n",
       "  function inject_raw_css(css) {\n",
       "    const element = document.createElement(\"style\");\n",
       "    element.appendChild(document.createTextNode(css));\n",
       "    document.body.appendChild(element);\n",
       "  }\n",
       "\n",
       "  var js_urls = [\"https://cdn.bokeh.org/bokeh/release/bokeh-2.4.2.min.js\", \"https://cdn.bokeh.org/bokeh/release/bokeh-gl-2.4.2.min.js\", \"https://cdn.bokeh.org/bokeh/release/bokeh-widgets-2.4.2.min.js\", \"https://cdn.bokeh.org/bokeh/release/bokeh-tables-2.4.2.min.js\", \"https://cdn.bokeh.org/bokeh/release/bokeh-mathjax-2.4.2.min.js\", \"https://unpkg.com/@holoviz/panel@0.12.6/dist/panel.min.js\"];\n",
       "  var js_modules = [];\n",
       "  var css_urls = [\"https://unpkg.com/@holoviz/panel@0.12.6/dist/css/alerts.css\", \"https://unpkg.com/@holoviz/panel@0.12.6/dist/css/card.css\", \"https://unpkg.com/@holoviz/panel@0.12.6/dist/css/dataframe.css\", \"https://unpkg.com/@holoviz/panel@0.12.6/dist/css/json.css\", \"https://unpkg.com/@holoviz/panel@0.12.6/dist/css/loading.css\", \"https://unpkg.com/@holoviz/panel@0.12.6/dist/css/markdown.css\", \"https://unpkg.com/@holoviz/panel@0.12.6/dist/css/widgets.css\"];\n",
       "  var inline_js = [\n",
       "    function(Bokeh) {\n",
       "      inject_raw_css(\"\\n    .bk.pn-loading.arcs:before {\\n      background-image: url(\\\"data:image/svg+xml;base64,PHN2ZyB4bWxucz0iaHR0cDovL3d3dy53My5vcmcvMjAwMC9zdmciIHhtbG5zOnhsaW5rPSJodHRwOi8vd3d3LnczLm9yZy8xOTk5L3hsaW5rIiBzdHlsZT0ibWFyZ2luOiBhdXRvOyBiYWNrZ3JvdW5kOiBub25lOyBkaXNwbGF5OiBibG9jazsgc2hhcGUtcmVuZGVyaW5nOiBhdXRvOyIgdmlld0JveD0iMCAwIDEwMCAxMDAiIHByZXNlcnZlQXNwZWN0UmF0aW89InhNaWRZTWlkIj4gIDxjaXJjbGUgY3g9IjUwIiBjeT0iNTAiIHI9IjMyIiBzdHJva2Utd2lkdGg9IjgiIHN0cm9rZT0iI2MzYzNjMyIgc3Ryb2tlLWRhc2hhcnJheT0iNTAuMjY1NDgyNDU3NDM2NjkgNTAuMjY1NDgyNDU3NDM2NjkiIGZpbGw9Im5vbmUiIHN0cm9rZS1saW5lY2FwPSJyb3VuZCI+ICAgIDxhbmltYXRlVHJhbnNmb3JtIGF0dHJpYnV0ZU5hbWU9InRyYW5zZm9ybSIgdHlwZT0icm90YXRlIiByZXBlYXRDb3VudD0iaW5kZWZpbml0ZSIgZHVyPSIxcyIga2V5VGltZXM9IjA7MSIgdmFsdWVzPSIwIDUwIDUwOzM2MCA1MCA1MCI+PC9hbmltYXRlVHJhbnNmb3JtPiAgPC9jaXJjbGU+PC9zdmc+\\\");\\n      max-height: 400px;\\n    }\\n    \");\n",
       "    },\n",
       "    function(Bokeh) {\n",
       "      Bokeh.set_log_level(\"info\");\n",
       "    },\n",
       "    function(Bokeh) {} // ensure no trailing comma for IE\n",
       "  ];\n",
       "\n",
       "  function run_inline_js() {\n",
       "    if ((root.Bokeh !== undefined) || (force === true)) {\n",
       "      for (var i = 0; i < inline_js.length; i++) {\n",
       "        inline_js[i].call(root, root.Bokeh);\n",
       "      }} else if (Date.now() < root._bokeh_timeout) {\n",
       "      setTimeout(run_inline_js, 100);\n",
       "    } else if (!root._bokeh_failed_load) {\n",
       "      console.log(\"Bokeh: BokehJS failed to load within specified timeout.\");\n",
       "      root._bokeh_failed_load = true;\n",
       "    }\n",
       "  }\n",
       "\n",
       "  if (root._bokeh_is_loading === 0) {\n",
       "    console.debug(\"Bokeh: BokehJS loaded, going straight to plotting\");\n",
       "    run_inline_js();\n",
       "  } else {\n",
       "    load_libs(css_urls, js_urls, js_modules, function() {\n",
       "      console.debug(\"Bokeh: BokehJS plotting callback run at\", now());\n",
       "      run_inline_js();\n",
       "    });\n",
       "  }\n",
       "}(window));"
      ],
      "application/vnd.holoviews_load.v0+json": "\n(function(root) {\n  function now() {\n    return new Date();\n  }\n\n  var force = true;\n\n  if (typeof root._bokeh_onload_callbacks === \"undefined\" || force === true) {\n    root._bokeh_onload_callbacks = [];\n    root._bokeh_is_loading = undefined;\n  }\n\n  if (typeof (root._bokeh_timeout) === \"undefined\" || force === true) {\n    root._bokeh_timeout = Date.now() + 5000;\n    root._bokeh_failed_load = false;\n  }\n\n  function run_callbacks() {\n    try {\n      root._bokeh_onload_callbacks.forEach(function(callback) {\n        if (callback != null)\n          callback();\n      });\n    } finally {\n      delete root._bokeh_onload_callbacks\n    }\n    console.debug(\"Bokeh: all callbacks have finished\");\n  }\n\n  function load_libs(css_urls, js_urls, js_modules, callback) {\n    if (css_urls == null) css_urls = [];\n    if (js_urls == null) js_urls = [];\n    if (js_modules == null) js_modules = [];\n\n    root._bokeh_onload_callbacks.push(callback);\n    if (root._bokeh_is_loading > 0) {\n      console.debug(\"Bokeh: BokehJS is being loaded, scheduling callback at\", now());\n      return null;\n    }\n    if (js_urls.length === 0 && js_modules.length === 0) {\n      run_callbacks();\n      return null;\n    }\n    console.debug(\"Bokeh: BokehJS not loaded, scheduling load and callback at\", now());\n\n    function on_load() {\n      root._bokeh_is_loading--;\n      if (root._bokeh_is_loading === 0) {\n        console.debug(\"Bokeh: all BokehJS libraries/stylesheets loaded\");\n        run_callbacks()\n      }\n    }\n\n    function on_error() {\n      console.error(\"failed to load \" + url);\n    }\n\n    for (var i = 0; i < css_urls.length; i++) {\n      var url = css_urls[i];\n      const element = document.createElement(\"link\");\n      element.onload = on_load;\n      element.onerror = on_error;\n      element.rel = \"stylesheet\";\n      element.type = \"text/css\";\n      element.href = url;\n      console.debug(\"Bokeh: injecting link tag for BokehJS stylesheet: \", url);\n      document.body.appendChild(element);\n    }\n\n    var skip = [];\n    if (window.requirejs) {\n      window.requirejs.config({'packages': {}, 'paths': {}, 'shim': {}});\n      \n      root._bokeh_is_loading = css_urls.length + 0;\n    } else {\n      root._bokeh_is_loading = css_urls.length + js_urls.length + js_modules.length;\n    }\n    for (var i = 0; i < js_urls.length; i++) {\n      var url = js_urls[i];\n      if (skip.indexOf(url) >= 0) {\n\tif (!window.requirejs) {\n\t  on_load();\n\t}\n\tcontinue;\n      }\n      var element = document.createElement('script');\n      element.onload = on_load;\n      element.onerror = on_error;\n      element.async = false;\n      element.src = url;\n      console.debug(\"Bokeh: injecting script tag for BokehJS library: \", url);\n      document.head.appendChild(element);\n    }\n    for (var i = 0; i < js_modules.length; i++) {\n      var url = js_modules[i];\n      if (skip.indexOf(url) >= 0) {\n\tif (!window.requirejs) {\n\t  on_load();\n\t}\n\tcontinue;\n      }\n      var element = document.createElement('script');\n      element.onload = on_load;\n      element.onerror = on_error;\n      element.async = false;\n      element.src = url;\n      element.type = \"module\";\n      console.debug(\"Bokeh: injecting script tag for BokehJS library: \", url);\n      document.head.appendChild(element);\n    }\n    if (!js_urls.length && !js_modules.length) {\n      on_load()\n    }\n  };\n\n  function inject_raw_css(css) {\n    const element = document.createElement(\"style\");\n    element.appendChild(document.createTextNode(css));\n    document.body.appendChild(element);\n  }\n\n  var js_urls = [\"https://cdn.bokeh.org/bokeh/release/bokeh-2.4.2.min.js\", \"https://cdn.bokeh.org/bokeh/release/bokeh-gl-2.4.2.min.js\", \"https://cdn.bokeh.org/bokeh/release/bokeh-widgets-2.4.2.min.js\", \"https://cdn.bokeh.org/bokeh/release/bokeh-tables-2.4.2.min.js\", \"https://cdn.bokeh.org/bokeh/release/bokeh-mathjax-2.4.2.min.js\", \"https://unpkg.com/@holoviz/panel@0.12.6/dist/panel.min.js\"];\n  var js_modules = [];\n  var css_urls = [\"https://unpkg.com/@holoviz/panel@0.12.6/dist/css/alerts.css\", \"https://unpkg.com/@holoviz/panel@0.12.6/dist/css/card.css\", \"https://unpkg.com/@holoviz/panel@0.12.6/dist/css/dataframe.css\", \"https://unpkg.com/@holoviz/panel@0.12.6/dist/css/json.css\", \"https://unpkg.com/@holoviz/panel@0.12.6/dist/css/loading.css\", \"https://unpkg.com/@holoviz/panel@0.12.6/dist/css/markdown.css\", \"https://unpkg.com/@holoviz/panel@0.12.6/dist/css/widgets.css\"];\n  var inline_js = [\n    function(Bokeh) {\n      inject_raw_css(\"\\n    .bk.pn-loading.arcs:before {\\n      background-image: url(\\\"data:image/svg+xml;base64,PHN2ZyB4bWxucz0iaHR0cDovL3d3dy53My5vcmcvMjAwMC9zdmciIHhtbG5zOnhsaW5rPSJodHRwOi8vd3d3LnczLm9yZy8xOTk5L3hsaW5rIiBzdHlsZT0ibWFyZ2luOiBhdXRvOyBiYWNrZ3JvdW5kOiBub25lOyBkaXNwbGF5OiBibG9jazsgc2hhcGUtcmVuZGVyaW5nOiBhdXRvOyIgdmlld0JveD0iMCAwIDEwMCAxMDAiIHByZXNlcnZlQXNwZWN0UmF0aW89InhNaWRZTWlkIj4gIDxjaXJjbGUgY3g9IjUwIiBjeT0iNTAiIHI9IjMyIiBzdHJva2Utd2lkdGg9IjgiIHN0cm9rZT0iI2MzYzNjMyIgc3Ryb2tlLWRhc2hhcnJheT0iNTAuMjY1NDgyNDU3NDM2NjkgNTAuMjY1NDgyNDU3NDM2NjkiIGZpbGw9Im5vbmUiIHN0cm9rZS1saW5lY2FwPSJyb3VuZCI+ICAgIDxhbmltYXRlVHJhbnNmb3JtIGF0dHJpYnV0ZU5hbWU9InRyYW5zZm9ybSIgdHlwZT0icm90YXRlIiByZXBlYXRDb3VudD0iaW5kZWZpbml0ZSIgZHVyPSIxcyIga2V5VGltZXM9IjA7MSIgdmFsdWVzPSIwIDUwIDUwOzM2MCA1MCA1MCI+PC9hbmltYXRlVHJhbnNmb3JtPiAgPC9jaXJjbGU+PC9zdmc+\\\");\\n      max-height: 400px;\\n    }\\n    \");\n    },\n    function(Bokeh) {\n      Bokeh.set_log_level(\"info\");\n    },\n    function(Bokeh) {} // ensure no trailing comma for IE\n  ];\n\n  function run_inline_js() {\n    if ((root.Bokeh !== undefined) || (force === true)) {\n      for (var i = 0; i < inline_js.length; i++) {\n        inline_js[i].call(root, root.Bokeh);\n      }} else if (Date.now() < root._bokeh_timeout) {\n      setTimeout(run_inline_js, 100);\n    } else if (!root._bokeh_failed_load) {\n      console.log(\"Bokeh: BokehJS failed to load within specified timeout.\");\n      root._bokeh_failed_load = true;\n    }\n  }\n\n  if (root._bokeh_is_loading === 0) {\n    console.debug(\"Bokeh: BokehJS loaded, going straight to plotting\");\n    run_inline_js();\n  } else {\n    load_libs(css_urls, js_urls, js_modules, function() {\n      console.debug(\"Bokeh: BokehJS plotting callback run at\", now());\n      run_inline_js();\n    });\n  }\n}(window));"
     },
     "metadata": {},
     "output_type": "display_data"
    },
    {
     "data": {
      "application/javascript": [
       "\n",
       "if ((window.PyViz === undefined) || (window.PyViz instanceof HTMLElement)) {\n",
       "  window.PyViz = {comms: {}, comm_status:{}, kernels:{}, receivers: {}, plot_index: []}\n",
       "}\n",
       "\n",
       "\n",
       "    function JupyterCommManager() {\n",
       "    }\n",
       "\n",
       "    JupyterCommManager.prototype.register_target = function(plot_id, comm_id, msg_handler) {\n",
       "      if (window.comm_manager || ((window.Jupyter !== undefined) && (Jupyter.notebook.kernel != null))) {\n",
       "        var comm_manager = window.comm_manager || Jupyter.notebook.kernel.comm_manager;\n",
       "        comm_manager.register_target(comm_id, function(comm) {\n",
       "          comm.on_msg(msg_handler);\n",
       "        });\n",
       "      } else if ((plot_id in window.PyViz.kernels) && (window.PyViz.kernels[plot_id])) {\n",
       "        window.PyViz.kernels[plot_id].registerCommTarget(comm_id, function(comm) {\n",
       "          comm.onMsg = msg_handler;\n",
       "        });\n",
       "      } else if (typeof google != 'undefined' && google.colab.kernel != null) {\n",
       "        google.colab.kernel.comms.registerTarget(comm_id, (comm) => {\n",
       "          var messages = comm.messages[Symbol.asyncIterator]();\n",
       "          function processIteratorResult(result) {\n",
       "            var message = result.value;\n",
       "            console.log(message)\n",
       "            var content = {data: message.data, comm_id};\n",
       "            var buffers = []\n",
       "            for (var buffer of message.buffers || []) {\n",
       "              buffers.push(new DataView(buffer))\n",
       "            }\n",
       "            var metadata = message.metadata || {};\n",
       "            var msg = {content, buffers, metadata}\n",
       "            msg_handler(msg);\n",
       "            return messages.next().then(processIteratorResult);\n",
       "          }\n",
       "          return messages.next().then(processIteratorResult);\n",
       "        })\n",
       "      }\n",
       "    }\n",
       "\n",
       "    JupyterCommManager.prototype.get_client_comm = function(plot_id, comm_id, msg_handler) {\n",
       "      if (comm_id in window.PyViz.comms) {\n",
       "        return window.PyViz.comms[comm_id];\n",
       "      } else if (window.comm_manager || ((window.Jupyter !== undefined) && (Jupyter.notebook.kernel != null))) {\n",
       "        var comm_manager = window.comm_manager || Jupyter.notebook.kernel.comm_manager;\n",
       "        var comm = comm_manager.new_comm(comm_id, {}, {}, {}, comm_id);\n",
       "        if (msg_handler) {\n",
       "          comm.on_msg(msg_handler);\n",
       "        }\n",
       "      } else if ((plot_id in window.PyViz.kernels) && (window.PyViz.kernels[plot_id])) {\n",
       "        var comm = window.PyViz.kernels[plot_id].connectToComm(comm_id);\n",
       "        comm.open();\n",
       "        if (msg_handler) {\n",
       "          comm.onMsg = msg_handler;\n",
       "        }\n",
       "      } else if (typeof google != 'undefined' && google.colab.kernel != null) {\n",
       "        var comm_promise = google.colab.kernel.comms.open(comm_id)\n",
       "        comm_promise.then((comm) => {\n",
       "          window.PyViz.comms[comm_id] = comm;\n",
       "          if (msg_handler) {\n",
       "            var messages = comm.messages[Symbol.asyncIterator]();\n",
       "            function processIteratorResult(result) {\n",
       "              var message = result.value;\n",
       "              var content = {data: message.data};\n",
       "              var metadata = message.metadata || {comm_id};\n",
       "              var msg = {content, metadata}\n",
       "              msg_handler(msg);\n",
       "              return messages.next().then(processIteratorResult);\n",
       "            }\n",
       "            return messages.next().then(processIteratorResult);\n",
       "          }\n",
       "        }) \n",
       "        var sendClosure = (data, metadata, buffers, disposeOnDone) => {\n",
       "          return comm_promise.then((comm) => {\n",
       "            comm.send(data, metadata, buffers, disposeOnDone);\n",
       "          });\n",
       "        };\n",
       "        var comm = {\n",
       "          send: sendClosure\n",
       "        };\n",
       "      }\n",
       "      window.PyViz.comms[comm_id] = comm;\n",
       "      return comm;\n",
       "    }\n",
       "    window.PyViz.comm_manager = new JupyterCommManager();\n",
       "    \n",
       "\n",
       "\n",
       "var JS_MIME_TYPE = 'application/javascript';\n",
       "var HTML_MIME_TYPE = 'text/html';\n",
       "var EXEC_MIME_TYPE = 'application/vnd.holoviews_exec.v0+json';\n",
       "var CLASS_NAME = 'output';\n",
       "\n",
       "/**\n",
       " * Render data to the DOM node\n",
       " */\n",
       "function render(props, node) {\n",
       "  var div = document.createElement(\"div\");\n",
       "  var script = document.createElement(\"script\");\n",
       "  node.appendChild(div);\n",
       "  node.appendChild(script);\n",
       "}\n",
       "\n",
       "/**\n",
       " * Handle when a new output is added\n",
       " */\n",
       "function handle_add_output(event, handle) {\n",
       "  var output_area = handle.output_area;\n",
       "  var output = handle.output;\n",
       "  if ((output.data == undefined) || (!output.data.hasOwnProperty(EXEC_MIME_TYPE))) {\n",
       "    return\n",
       "  }\n",
       "  var id = output.metadata[EXEC_MIME_TYPE][\"id\"];\n",
       "  var toinsert = output_area.element.find(\".\" + CLASS_NAME.split(' ')[0]);\n",
       "  if (id !== undefined) {\n",
       "    var nchildren = toinsert.length;\n",
       "    var html_node = toinsert[nchildren-1].children[0];\n",
       "    html_node.innerHTML = output.data[HTML_MIME_TYPE];\n",
       "    var scripts = [];\n",
       "    var nodelist = html_node.querySelectorAll(\"script\");\n",
       "    for (var i in nodelist) {\n",
       "      if (nodelist.hasOwnProperty(i)) {\n",
       "        scripts.push(nodelist[i])\n",
       "      }\n",
       "    }\n",
       "\n",
       "    scripts.forEach( function (oldScript) {\n",
       "      var newScript = document.createElement(\"script\");\n",
       "      var attrs = [];\n",
       "      var nodemap = oldScript.attributes;\n",
       "      for (var j in nodemap) {\n",
       "        if (nodemap.hasOwnProperty(j)) {\n",
       "          attrs.push(nodemap[j])\n",
       "        }\n",
       "      }\n",
       "      attrs.forEach(function(attr) { newScript.setAttribute(attr.name, attr.value) });\n",
       "      newScript.appendChild(document.createTextNode(oldScript.innerHTML));\n",
       "      oldScript.parentNode.replaceChild(newScript, oldScript);\n",
       "    });\n",
       "    if (JS_MIME_TYPE in output.data) {\n",
       "      toinsert[nchildren-1].children[1].textContent = output.data[JS_MIME_TYPE];\n",
       "    }\n",
       "    output_area._hv_plot_id = id;\n",
       "    if ((window.Bokeh !== undefined) && (id in Bokeh.index)) {\n",
       "      window.PyViz.plot_index[id] = Bokeh.index[id];\n",
       "    } else {\n",
       "      window.PyViz.plot_index[id] = null;\n",
       "    }\n",
       "  } else if (output.metadata[EXEC_MIME_TYPE][\"server_id\"] !== undefined) {\n",
       "    var bk_div = document.createElement(\"div\");\n",
       "    bk_div.innerHTML = output.data[HTML_MIME_TYPE];\n",
       "    var script_attrs = bk_div.children[0].attributes;\n",
       "    for (var i = 0; i < script_attrs.length; i++) {\n",
       "      toinsert[toinsert.length - 1].childNodes[1].setAttribute(script_attrs[i].name, script_attrs[i].value);\n",
       "    }\n",
       "    // store reference to server id on output_area\n",
       "    output_area._bokeh_server_id = output.metadata[EXEC_MIME_TYPE][\"server_id\"];\n",
       "  }\n",
       "}\n",
       "\n",
       "/**\n",
       " * Handle when an output is cleared or removed\n",
       " */\n",
       "function handle_clear_output(event, handle) {\n",
       "  var id = handle.cell.output_area._hv_plot_id;\n",
       "  var server_id = handle.cell.output_area._bokeh_server_id;\n",
       "  if (((id === undefined) || !(id in PyViz.plot_index)) && (server_id !== undefined)) { return; }\n",
       "  var comm = window.PyViz.comm_manager.get_client_comm(\"hv-extension-comm\", \"hv-extension-comm\", function () {});\n",
       "  if (server_id !== null) {\n",
       "    comm.send({event_type: 'server_delete', 'id': server_id});\n",
       "    return;\n",
       "  } else if (comm !== null) {\n",
       "    comm.send({event_type: 'delete', 'id': id});\n",
       "  }\n",
       "  delete PyViz.plot_index[id];\n",
       "  if ((window.Bokeh !== undefined) & (id in window.Bokeh.index)) {\n",
       "    var doc = window.Bokeh.index[id].model.document\n",
       "    doc.clear();\n",
       "    const i = window.Bokeh.documents.indexOf(doc);\n",
       "    if (i > -1) {\n",
       "      window.Bokeh.documents.splice(i, 1);\n",
       "    }\n",
       "  }\n",
       "}\n",
       "\n",
       "/**\n",
       " * Handle kernel restart event\n",
       " */\n",
       "function handle_kernel_cleanup(event, handle) {\n",
       "  delete PyViz.comms[\"hv-extension-comm\"];\n",
       "  window.PyViz.plot_index = {}\n",
       "}\n",
       "\n",
       "/**\n",
       " * Handle update_display_data messages\n",
       " */\n",
       "function handle_update_output(event, handle) {\n",
       "  handle_clear_output(event, {cell: {output_area: handle.output_area}})\n",
       "  handle_add_output(event, handle)\n",
       "}\n",
       "\n",
       "function register_renderer(events, OutputArea) {\n",
       "  function append_mime(data, metadata, element) {\n",
       "    // create a DOM node to render to\n",
       "    var toinsert = this.create_output_subarea(\n",
       "    metadata,\n",
       "    CLASS_NAME,\n",
       "    EXEC_MIME_TYPE\n",
       "    );\n",
       "    this.keyboard_manager.register_events(toinsert);\n",
       "    // Render to node\n",
       "    var props = {data: data, metadata: metadata[EXEC_MIME_TYPE]};\n",
       "    render(props, toinsert[0]);\n",
       "    element.append(toinsert);\n",
       "    return toinsert\n",
       "  }\n",
       "\n",
       "  events.on('output_added.OutputArea', handle_add_output);\n",
       "  events.on('output_updated.OutputArea', handle_update_output);\n",
       "  events.on('clear_output.CodeCell', handle_clear_output);\n",
       "  events.on('delete.Cell', handle_clear_output);\n",
       "  events.on('kernel_ready.Kernel', handle_kernel_cleanup);\n",
       "\n",
       "  OutputArea.prototype.register_mime_type(EXEC_MIME_TYPE, append_mime, {\n",
       "    safe: true,\n",
       "    index: 0\n",
       "  });\n",
       "}\n",
       "\n",
       "if (window.Jupyter !== undefined) {\n",
       "  try {\n",
       "    var events = require('base/js/events');\n",
       "    var OutputArea = require('notebook/js/outputarea').OutputArea;\n",
       "    if (OutputArea.prototype.mime_types().indexOf(EXEC_MIME_TYPE) == -1) {\n",
       "      register_renderer(events, OutputArea);\n",
       "    }\n",
       "  } catch(err) {\n",
       "  }\n",
       "}\n"
      ],
      "application/vnd.holoviews_load.v0+json": "\nif ((window.PyViz === undefined) || (window.PyViz instanceof HTMLElement)) {\n  window.PyViz = {comms: {}, comm_status:{}, kernels:{}, receivers: {}, plot_index: []}\n}\n\n\n    function JupyterCommManager() {\n    }\n\n    JupyterCommManager.prototype.register_target = function(plot_id, comm_id, msg_handler) {\n      if (window.comm_manager || ((window.Jupyter !== undefined) && (Jupyter.notebook.kernel != null))) {\n        var comm_manager = window.comm_manager || Jupyter.notebook.kernel.comm_manager;\n        comm_manager.register_target(comm_id, function(comm) {\n          comm.on_msg(msg_handler);\n        });\n      } else if ((plot_id in window.PyViz.kernels) && (window.PyViz.kernels[plot_id])) {\n        window.PyViz.kernels[plot_id].registerCommTarget(comm_id, function(comm) {\n          comm.onMsg = msg_handler;\n        });\n      } else if (typeof google != 'undefined' && google.colab.kernel != null) {\n        google.colab.kernel.comms.registerTarget(comm_id, (comm) => {\n          var messages = comm.messages[Symbol.asyncIterator]();\n          function processIteratorResult(result) {\n            var message = result.value;\n            console.log(message)\n            var content = {data: message.data, comm_id};\n            var buffers = []\n            for (var buffer of message.buffers || []) {\n              buffers.push(new DataView(buffer))\n            }\n            var metadata = message.metadata || {};\n            var msg = {content, buffers, metadata}\n            msg_handler(msg);\n            return messages.next().then(processIteratorResult);\n          }\n          return messages.next().then(processIteratorResult);\n        })\n      }\n    }\n\n    JupyterCommManager.prototype.get_client_comm = function(plot_id, comm_id, msg_handler) {\n      if (comm_id in window.PyViz.comms) {\n        return window.PyViz.comms[comm_id];\n      } else if (window.comm_manager || ((window.Jupyter !== undefined) && (Jupyter.notebook.kernel != null))) {\n        var comm_manager = window.comm_manager || Jupyter.notebook.kernel.comm_manager;\n        var comm = comm_manager.new_comm(comm_id, {}, {}, {}, comm_id);\n        if (msg_handler) {\n          comm.on_msg(msg_handler);\n        }\n      } else if ((plot_id in window.PyViz.kernels) && (window.PyViz.kernels[plot_id])) {\n        var comm = window.PyViz.kernels[plot_id].connectToComm(comm_id);\n        comm.open();\n        if (msg_handler) {\n          comm.onMsg = msg_handler;\n        }\n      } else if (typeof google != 'undefined' && google.colab.kernel != null) {\n        var comm_promise = google.colab.kernel.comms.open(comm_id)\n        comm_promise.then((comm) => {\n          window.PyViz.comms[comm_id] = comm;\n          if (msg_handler) {\n            var messages = comm.messages[Symbol.asyncIterator]();\n            function processIteratorResult(result) {\n              var message = result.value;\n              var content = {data: message.data};\n              var metadata = message.metadata || {comm_id};\n              var msg = {content, metadata}\n              msg_handler(msg);\n              return messages.next().then(processIteratorResult);\n            }\n            return messages.next().then(processIteratorResult);\n          }\n        }) \n        var sendClosure = (data, metadata, buffers, disposeOnDone) => {\n          return comm_promise.then((comm) => {\n            comm.send(data, metadata, buffers, disposeOnDone);\n          });\n        };\n        var comm = {\n          send: sendClosure\n        };\n      }\n      window.PyViz.comms[comm_id] = comm;\n      return comm;\n    }\n    window.PyViz.comm_manager = new JupyterCommManager();\n    \n\n\nvar JS_MIME_TYPE = 'application/javascript';\nvar HTML_MIME_TYPE = 'text/html';\nvar EXEC_MIME_TYPE = 'application/vnd.holoviews_exec.v0+json';\nvar CLASS_NAME = 'output';\n\n/**\n * Render data to the DOM node\n */\nfunction render(props, node) {\n  var div = document.createElement(\"div\");\n  var script = document.createElement(\"script\");\n  node.appendChild(div);\n  node.appendChild(script);\n}\n\n/**\n * Handle when a new output is added\n */\nfunction handle_add_output(event, handle) {\n  var output_area = handle.output_area;\n  var output = handle.output;\n  if ((output.data == undefined) || (!output.data.hasOwnProperty(EXEC_MIME_TYPE))) {\n    return\n  }\n  var id = output.metadata[EXEC_MIME_TYPE][\"id\"];\n  var toinsert = output_area.element.find(\".\" + CLASS_NAME.split(' ')[0]);\n  if (id !== undefined) {\n    var nchildren = toinsert.length;\n    var html_node = toinsert[nchildren-1].children[0];\n    html_node.innerHTML = output.data[HTML_MIME_TYPE];\n    var scripts = [];\n    var nodelist = html_node.querySelectorAll(\"script\");\n    for (var i in nodelist) {\n      if (nodelist.hasOwnProperty(i)) {\n        scripts.push(nodelist[i])\n      }\n    }\n\n    scripts.forEach( function (oldScript) {\n      var newScript = document.createElement(\"script\");\n      var attrs = [];\n      var nodemap = oldScript.attributes;\n      for (var j in nodemap) {\n        if (nodemap.hasOwnProperty(j)) {\n          attrs.push(nodemap[j])\n        }\n      }\n      attrs.forEach(function(attr) { newScript.setAttribute(attr.name, attr.value) });\n      newScript.appendChild(document.createTextNode(oldScript.innerHTML));\n      oldScript.parentNode.replaceChild(newScript, oldScript);\n    });\n    if (JS_MIME_TYPE in output.data) {\n      toinsert[nchildren-1].children[1].textContent = output.data[JS_MIME_TYPE];\n    }\n    output_area._hv_plot_id = id;\n    if ((window.Bokeh !== undefined) && (id in Bokeh.index)) {\n      window.PyViz.plot_index[id] = Bokeh.index[id];\n    } else {\n      window.PyViz.plot_index[id] = null;\n    }\n  } else if (output.metadata[EXEC_MIME_TYPE][\"server_id\"] !== undefined) {\n    var bk_div = document.createElement(\"div\");\n    bk_div.innerHTML = output.data[HTML_MIME_TYPE];\n    var script_attrs = bk_div.children[0].attributes;\n    for (var i = 0; i < script_attrs.length; i++) {\n      toinsert[toinsert.length - 1].childNodes[1].setAttribute(script_attrs[i].name, script_attrs[i].value);\n    }\n    // store reference to server id on output_area\n    output_area._bokeh_server_id = output.metadata[EXEC_MIME_TYPE][\"server_id\"];\n  }\n}\n\n/**\n * Handle when an output is cleared or removed\n */\nfunction handle_clear_output(event, handle) {\n  var id = handle.cell.output_area._hv_plot_id;\n  var server_id = handle.cell.output_area._bokeh_server_id;\n  if (((id === undefined) || !(id in PyViz.plot_index)) && (server_id !== undefined)) { return; }\n  var comm = window.PyViz.comm_manager.get_client_comm(\"hv-extension-comm\", \"hv-extension-comm\", function () {});\n  if (server_id !== null) {\n    comm.send({event_type: 'server_delete', 'id': server_id});\n    return;\n  } else if (comm !== null) {\n    comm.send({event_type: 'delete', 'id': id});\n  }\n  delete PyViz.plot_index[id];\n  if ((window.Bokeh !== undefined) & (id in window.Bokeh.index)) {\n    var doc = window.Bokeh.index[id].model.document\n    doc.clear();\n    const i = window.Bokeh.documents.indexOf(doc);\n    if (i > -1) {\n      window.Bokeh.documents.splice(i, 1);\n    }\n  }\n}\n\n/**\n * Handle kernel restart event\n */\nfunction handle_kernel_cleanup(event, handle) {\n  delete PyViz.comms[\"hv-extension-comm\"];\n  window.PyViz.plot_index = {}\n}\n\n/**\n * Handle update_display_data messages\n */\nfunction handle_update_output(event, handle) {\n  handle_clear_output(event, {cell: {output_area: handle.output_area}})\n  handle_add_output(event, handle)\n}\n\nfunction register_renderer(events, OutputArea) {\n  function append_mime(data, metadata, element) {\n    // create a DOM node to render to\n    var toinsert = this.create_output_subarea(\n    metadata,\n    CLASS_NAME,\n    EXEC_MIME_TYPE\n    );\n    this.keyboard_manager.register_events(toinsert);\n    // Render to node\n    var props = {data: data, metadata: metadata[EXEC_MIME_TYPE]};\n    render(props, toinsert[0]);\n    element.append(toinsert);\n    return toinsert\n  }\n\n  events.on('output_added.OutputArea', handle_add_output);\n  events.on('output_updated.OutputArea', handle_update_output);\n  events.on('clear_output.CodeCell', handle_clear_output);\n  events.on('delete.Cell', handle_clear_output);\n  events.on('kernel_ready.Kernel', handle_kernel_cleanup);\n\n  OutputArea.prototype.register_mime_type(EXEC_MIME_TYPE, append_mime, {\n    safe: true,\n    index: 0\n  });\n}\n\nif (window.Jupyter !== undefined) {\n  try {\n    var events = require('base/js/events');\n    var OutputArea = require('notebook/js/outputarea').OutputArea;\n    if (OutputArea.prototype.mime_types().indexOf(EXEC_MIME_TYPE) == -1) {\n      register_renderer(events, OutputArea);\n    }\n  } catch(err) {\n  }\n}\n"
     },
     "metadata": {},
     "output_type": "display_data"
    }
   ],
   "source": [
    "import numpy as np \n",
    "import pandas as pd\n",
    "import matplotlib.pyplot as plt\n",
    "import csv\n",
    "import time\n",
    "import sys\n",
    "\n",
    "# Imports pour pyomo\n",
    "import pyomo.environ as pyo\n",
    "from pyomo.opt import SolverFactory\n",
    "\n",
    "import panel as pn \n",
    "from ipywidgets import interactive, interact_manual\n",
    "import ipywidgets as widgets\n",
    "\n",
    "#%matplotlib inline\n",
    "pn.extension()\n",
    "\n",
    "from matplotlib.figure import Figure\n",
    "from matplotlib.backends.backend_agg import FigureCanvas"
   ]
  },
  {
   "cell_type": "markdown",
   "id": "a56afc89",
   "metadata": {},
   "source": [
    "## 1. Utils"
   ]
  },
  {
   "cell_type": "code",
   "execution_count": 2,
   "id": "05f20b8c",
   "metadata": {},
   "outputs": [],
   "source": [
    "col = {\"offshore\" : '#1f4e79', \"onshore\" : '#548235' , \"pv\" : \"#ffc000\", \"phs\" : \"#bdd7ee\", \"battery\" : \"#7030a0\", \"biogas\" :\"#843c0c\", \"methanation\": \"#7f6000\", \"gas\": \"grey\", \"lake\": \"#4169E1\", \"river\" : \"#09F1D3\"}\n",
    "tec = [\"offshore\",\"onshore\",\"pv\",\"river\",\"lake\",\"biogas\",\"phs\",\"battery\",\"methanation\"]\n",
    "stor = [\"phs\",\"battery\",\"methanation\"]"
   ]
  },
  {
   "cell_type": "code",
   "execution_count": 3,
   "id": "8b8087e6",
   "metadata": {},
   "outputs": [],
   "source": [
    "# Dashboard\n",
    "\n",
    "def show(week,name):\n",
    "    \n",
    "    if name == \"scen2006\": \n",
    "        d = scen2006\n",
    "        Volume = Volume_str_opti \n",
    "    else :\n",
    "        d = pd.read_csv(name+\"/\"+name+\"_hourly_generation.csv\", index_col = 0, squeeze = True)\n",
    "        Volume = pd.read_csv(name+\"/\"+name+\"_Volume.csv\", index_col = 0, squeeze = True)\n",
    "        \n",
    "    tec_aux = tec\n",
    "    if not(\"river\" in d.columns): tec_aux = list(set(tec_aux) - set([\"river\"]))\n",
    "    if not(\"lake\" in d.columns): tec_aux = list(set(tec_aux) - set([\"lake\"]))\n",
    "    \n",
    "    h  = 168*(week-1) + np.arange(1,169)\n",
    "    ymin, ymax = -45,130\n",
    "    h_ratio = np.ones(len(stor)+1)\n",
    "    h_ratio[0] = 2 # 1er subplot 2 fois plus grand\n",
    "    fig, axs = plt.subplots(len(stor)+1, figsize = (15,15),gridspec_kw={'height_ratios':h_ratio})\n",
    "    \n",
    "    # Stockage \n",
    "    sum_s = 0\n",
    "    for i in stor: \n",
    "        sum_s += d[\"Storage \" + i][h]\n",
    "    for s in stor[::-1]:\n",
    "        aux = \"Storage \" + s\n",
    "        axs[0].fill_between(h, sum_s, color = col[s], label = aux)\n",
    "        sum_s -= d[aux][h]\n",
    "\n",
    "    # Production\n",
    "    sum_g = 0\n",
    "    for i in tec_aux: \n",
    "        sum_g += d[i][h]\n",
    "    for gene in tec_aux[::-1]: \n",
    "        axs[0].fill_between(h,sum_g, color = col[gene], label = gene )\n",
    "        sum_g -= d[gene][h]\n",
    "    \n",
    "    # Demande\n",
    "    axs[0].plot(h, d[\"Electricity demand\"][h], color = 'r' , label = \"Demand\",linewidth= 4)\n",
    "\n",
    "    axs[0].vlines(x=np.linspace(h[0],h[-1],8),ymin = ymin, ymax = ymax,colors=\"black\",linestyle='dotted',linewidth=2)\n",
    "    axs[0].set_ylabel(\"Production (GWh)\")\n",
    "    axs[0].set_ylim(ymin,ymax)\n",
    "    axs[0].legend(loc =\"upper right\")\n",
    "    axs[0].set_title(\"Semaine \"+ str(week))\n",
    "        \n",
    "    for s in range(0,len(stor)):\n",
    "        axs[s+1].fill_between(h, d[\"Stored \" + stor[s]][h], color = col[stor[s]])\n",
    "        axs[s+1].hlines(y=Volume[s], xmin = h[0], xmax = h[-1], label = \"limit\", color = 'red')\n",
    "        axs[s+1].set_title(\"Stored \" + str(stor[s]))\n",
    "        axs[s+1].vlines(x=np.linspace(h[0],h[-1],8),ymin = 0, ymax = Volume[s]+10,colors=\"black\",linestyle='dotted',linewidth=2)\n",
    "        \n",
    "        \n",
    "def affichage(simu):\n",
    "    print(\" --- Q ---\")\n",
    "    for i in simu.model.Q:\n",
    "        print(i,\" : \",pyo.value(simu.model.Q[i]))   \n",
    "    print(\" --- S ---\")   \n",
    "    for i in simu.model.S:\n",
    "        print(i,\" : \",pyo.value(simu.model.S[i]))\n",
    "    print(\" --- volume ---\")\n",
    "    for i in simu.model.volume:\n",
    "        print(i,\" : \",pyo.value(simu.model.volume[i]))\n",
    "    print(\" --- cost --- \")\n",
    "    print(simu.cost())"
   ]
  },
  {
   "cell_type": "code",
   "execution_count": 4,
   "id": "57befcf3",
   "metadata": {},
   "outputs": [],
   "source": [
    "# Optimal values found in summary with demand of 2016.txt\n",
    "Volume_str_opti = pd.Series([180 ,74.14, 12499.09], index = stor)\n",
    "S_opti = pd.Series([9.3,20.08, 7.66], index = stor)\n",
    "Q_tec_opti = pd.Series([12.64, 79.73, 121.98, 7.5, 13 ,32.93, 9.3, 20.08, 32.93], index = tec)\n",
    "Cost_opti = 21.84 "
   ]
  },
  {
   "cell_type": "markdown",
   "id": "cf385f70",
   "metadata": {},
   "source": [
    "## 2. Simulation du modèle EOLES"
   ]
  },
  {
   "cell_type": "markdown",
   "id": "95c8d74d",
   "metadata": {},
   "source": [
    "### 2.1. Chois de Q, S et VOLUME"
   ]
  },
  {
   "cell_type": "code",
   "execution_count": 5,
   "id": "cda5d0d9",
   "metadata": {},
   "outputs": [],
   "source": [
    "phs_bounds = {\"Q_lower\":5.2,\"Q_upper\": 9.3, \"S_lower\":4.2, \"S_upper\":9.3, \"Volume_lower\":80.16, \"Volume_upper\":180}\n",
    "vre_upper_bounds = {\"onshore\":120, \"offshore\": 20, \"pv\": 218}"
   ]
  },
  {
   "cell_type": "code",
   "execution_count": 6,
   "id": "c5de9ca0",
   "metadata": {},
   "outputs": [
    {
     "data": {
      "application/vnd.jupyter.widget-view+json": {
       "model_id": "f14d8c95644b4d0f88b3dff669c6c0e7",
       "version_major": 2,
       "version_minor": 0
      },
      "text/plain": [
       "HBox(children=(VBox(children=(Text(value='Capcité installée (GW)', disabled=True), FloatSlider(value=12.64, de…"
      ]
     },
     "metadata": {},
     "output_type": "display_data"
    }
   ],
   "source": [
    "V = widgets.Text(value='Volume de stockage (GWh)', disabled=True)\n",
    "Volume_phs = widgets.FloatSlider(min=phs_bounds[\"Volume_lower\"], max=phs_bounds[\"Volume_upper\"], step=0.01, description='Volume phs',value = Volume_str_opti[\"phs\"])\n",
    "Volume_methanation = widgets.FloatSlider(min=0, max=Volume_str_opti[\"methanation\"]*5, step=0.01, description='Volume methanation',value = Volume_str_opti[\"methanation\"])\n",
    "Volume_battery =  widgets.FloatSlider(min=0, max=Volume_str_opti[\"battery\"]*5, step=0.01, description='Volume battery',value = Volume_str_opti[\"battery\"])  \n",
    "\n",
    "Q = widgets.Text(value='Capcité installée (GW)', disabled=True)\n",
    "Q_offshore= widgets.FloatSlider(min=0, max=vre_upper_bounds[\"offshore\"], step=0.01, description='Q offshore',value = Q_tec_opti[\"offshore\"])\n",
    "Q_onshore= widgets.FloatSlider(min=0, max=vre_upper_bounds[\"onshore\"], step=0.01, description='Q onshore',value = Q_tec_opti[\"onshore\"])\n",
    "Q_pv= widgets.FloatSlider(min=0, max=vre_upper_bounds[\"pv\"], step=0.1, description='Q pv',value = Q_tec_opti[\"pv\"])\n",
    "Q_river= widgets.FloatSlider(min=0, max=Q_tec_opti[\"river\"], step=0.01, description='Q river',value = Q_tec_opti[\"river\"])\n",
    "Q_lake= widgets.FloatSlider(min=12.855, max=13, step=0.01, description='Q lake',value = Q_tec_opti[\"lake\"])\n",
    "Q_biogas= widgets.FloatSlider(min=0, max=Q_tec_opti[\"biogas\"]*5, step=0.01, description='Q biogas',value = Q_tec_opti[\"biogas\"])\n",
    "Q_phs= widgets.FloatSlider(min=phs_bounds[\"Q_lower\"], max=phs_bounds[\"Q_upper\"], step=0.01, description='Q phs',value = Q_tec_opti[\"phs\"])\n",
    "Q_battery= widgets.FloatSlider(min=0, max=Q_tec_opti[\"battery\"]*5, step=0.01, description='Q battery',value = Q_tec_opti[\"battery\"])\n",
    "Q_methanation= widgets.FloatSlider(min=0, max=Q_tec_opti[\"methanation\"]*5, step=0.01, description='Q methanation',value = Q_tec_opti[\"methanation\"])\n",
    "\n",
    "S = widgets.Text(value='Capacité de charge (GW)', disabled=True)\n",
    "S_phs= widgets.FloatSlider(min=phs_bounds[\"S_lower\"], max=phs_bounds[\"S_upper\"], step=0.01, description='S phs',value = S_opti[\"phs\"])\n",
    "S_methanation = widgets.FloatSlider(min=0, max=S_opti[\"methanation\"]*5, step=0.01, description='S methanation',value = S_opti[\"methanation\"])\n",
    "warn = widgets.Textarea(value='      Attention ! \\n      Volume > Q  et  Volume > S', disabled=True)\n",
    "\n",
    "widgets.HBox([widgets.VBox([Q, Q_offshore, Q_onshore, Q_pv, Q_river, Q_lake,Q_biogas ,Q_phs,Q_battery,Q_methanation]),\n",
    "widgets.VBox([V,Volume_phs,Volume_battery,Volume_methanation, warn]), widgets.VBox([S,S_methanation, S_phs])])\n"
   ]
  },
  {
   "cell_type": "code",
   "execution_count": 7,
   "id": "484d385b",
   "metadata": {},
   "outputs": [
    {
     "name": "stdout",
     "output_type": "stream",
     "text": [
      "Fixed values : \n",
      "--------- Q ---------\n",
      "offshore        12.64\n",
      "onshore         79.73\n",
      "pv             121.98\n",
      "river            7.50\n",
      "lake            13.00\n",
      "biogas          32.93\n",
      "phs              9.30\n",
      "battery         20.08\n",
      "methanation     32.93\n",
      "dtype: float64\n",
      "-------- VOLUME -------\n",
      "phs              180.00\n",
      "battery           74.14\n",
      "methanation    12499.09\n",
      "dtype: float64\n",
      "--------- S ---------\n",
      "phs             9.30\n",
      "battery        20.08\n",
      "methanation     7.66\n",
      "dtype: float64\n"
     ]
    }
   ],
   "source": [
    "#Valeurs modifiées par les curseurs :\n",
    "Q_tec = [Q_offshore.value, Q_onshore.value, Q_pv.value, Q_river.value, Q_lake.value,Q_biogas.value ,Q_phs.value,Q_battery.value,Q_methanation.value]\n",
    "Volume_str = [Volume_phs.value,Volume_battery.value,Volume_methanation.value]\n",
    "S =  [Q_phs.value,Q_battery.value,S_methanation.value]\n",
    "\n",
    "\n",
    "# Capacity in GW Q\n",
    "Q_tec = pd.Series( Q_tec, index = tec)\n",
    "\n",
    "    \n",
    "# Energy volume of storage technology in GWh VOLUME\n",
    "Volume_str = pd.Series(Volume_str, index = stor)\n",
    "\n",
    "#Storage charging power S\n",
    "S = pd.Series(S, index = stor)\n",
    "\n",
    "\n",
    "print(\"Fixed values : \")\n",
    "print(\"--------- Q ---------\")\n",
    "print(Q_tec)\n",
    "print(\"-------- VOLUME -------\")\n",
    "print(Volume_str)\n",
    "print(\"--------- S ---------\")\n",
    "print(S)"
   ]
  },
  {
   "cell_type": "markdown",
   "id": "4c18961b",
   "metadata": {},
   "source": [
    "### 2.2 Simulation avec les paramètres optimaux de l'année 2006"
   ]
  },
  {
   "cell_type": "code",
   "execution_count": 8,
   "id": "548a3665",
   "metadata": {},
   "outputs": [],
   "source": [
    "from modeles import modele"
   ]
  },
  {
   "cell_type": "markdown",
   "id": "1567f85e",
   "metadata": {},
   "source": [
    "### <span style=\"color:red\">Attention</span>\n",
    "Il faut modifier le fichier modele.py en choisissant le scénario de demande que vous souhaitez simuler.  \n",
    "Penez à décommenter le commentaire associé à la demande pour vérifier que le fichier importé a bien été modifié.  \n",
    "Il faut relancer le noyau à chaque nouvel expérience sinon jupyter ne prend pas les dernières modifications."
   ]
  },
  {
   "cell_type": "markdown",
   "id": "ea827c85",
   "metadata": {},
   "source": [
    "#### Demande de RTE  ERREUR ici j'ai affiché les données de negawatt je suis en train de travailler sur ce pb"
   ]
  },
  {
   "cell_type": "code",
   "execution_count": 9,
   "id": "2ac46945",
   "metadata": {},
   "outputs": [
    {
     "name": "stdout",
     "output_type": "stream",
     "text": [
      "Technologies utilisées : ['offshore', 'onshore', 'pv', 'river', 'lake', 'biogas', 'phs', 'battery', 'methanation']\n",
      "Chargement des paramètres ...\n",
      "Demande de Negawatt\n",
      "Initialisation des sets...\n",
      "Définition des variables à optimiser ...\n",
      "Ajout des contraintes ...\n",
      "Optimisation ...\n",
      "Simulation du modèle faite avec succès ! \n"
     ]
    }
   ],
   "source": [
    "#Run the simulation\n",
    "simu0 = modele(Q_tec, Volume_str, S)\n",
    "simu0.load_param(\"inputs/\")\n",
    "simu0.run()"
   ]
  },
  {
   "cell_type": "code",
   "execution_count": 10,
   "id": "47056820",
   "metadata": {},
   "outputs": [
    {
     "name": "stdout",
     "output_type": "stream",
     "text": [
      "Ecriture des résultats ...\n"
     ]
    }
   ],
   "source": [
    "#Write results\n",
    "res0 = simu0.write_results('simu_opti_rte')"
   ]
  },
  {
   "cell_type": "markdown",
   "id": "bd247795",
   "metadata": {},
   "source": [
    "#### Demande de l'ADEME"
   ]
  },
  {
   "cell_type": "code",
   "execution_count": 9,
   "id": "454af4fc",
   "metadata": {},
   "outputs": [
    {
     "name": "stdout",
     "output_type": "stream",
     "text": [
      "Technologies utilisées : ['offshore', 'onshore', 'pv', 'river', 'lake', 'biogas', 'phs', 'battery', 'methanation']\n",
      "Chargement des paramètres ...\n",
      "Demande de l'ADEME\n",
      "Initialisation des sets...\n",
      "Définition des variables à optimiser ...\n",
      "Ajout des contraintes ...\n",
      "Optimisation ...\n",
      "Simulation du modèle faite avec succès ! \n"
     ]
    }
   ],
   "source": [
    "#Run the simulation\n",
    "simu1 = modele(Q_tec, Volume_str, S)\n",
    "simu1.load_param(\"inputs/\")\n",
    "simu1.run()"
   ]
  },
  {
   "cell_type": "code",
   "execution_count": 10,
   "id": "81ee477c",
   "metadata": {},
   "outputs": [
    {
     "name": "stdout",
     "output_type": "stream",
     "text": [
      "Ecriture des résultats ...\n"
     ]
    }
   ],
   "source": [
    "#Write results\n",
    "res1 = simu1.write_results('simu_opti_ademe')"
   ]
  },
  {
   "cell_type": "markdown",
   "id": "1356b663",
   "metadata": {},
   "source": [
    "#### Demande de Négawatt"
   ]
  },
  {
   "cell_type": "code",
   "execution_count": 9,
   "id": "e3af13af",
   "metadata": {},
   "outputs": [
    {
     "name": "stdout",
     "output_type": "stream",
     "text": [
      "Technologies utilisées : ['offshore', 'onshore', 'pv', 'river', 'lake', 'biogas', 'phs', 'battery', 'methanation']\n",
      "Chargement des paramètres ...\n",
      "Demande de Negawatt\n",
      "Initialisation des sets...\n",
      "Définition des variables à optimiser ...\n",
      "Ajout des contraintes ...\n",
      "Optimisation ...\n",
      "Simulation du modèle faite avec succès ! \n"
     ]
    }
   ],
   "source": [
    "#Run the simulation\n",
    "simu2 = modele(Q_tec, Volume_str, S)\n",
    "simu2.load_param(\"inputs/\")\n",
    "simu2.run()"
   ]
  },
  {
   "cell_type": "code",
   "execution_count": 11,
   "id": "97165887",
   "metadata": {},
   "outputs": [
    {
     "name": "stdout",
     "output_type": "stream",
     "text": [
      "Ecriture des résultats ...\n"
     ]
    }
   ],
   "source": [
    "#Write results\n",
    "res2 = simu2.write_results('simu_opti_negawatt')"
   ]
  },
  {
   "cell_type": "markdown",
   "id": "3fdd8677",
   "metadata": {},
   "source": [
    "### 2.3 Analyse des résultats"
   ]
  },
  {
   "cell_type": "code",
   "execution_count": 12,
   "id": "22128b79",
   "metadata": {},
   "outputs": [],
   "source": [
    "# Dashboard\n",
    "\n",
    "def show_dossier(week,name):\n",
    "    \n",
    "    if name == \"scen2006\": \n",
    "        d = scen2006\n",
    "        Volume = Volume_str_opti \n",
    "    else :\n",
    "        d = pd.read_csv(name+\"/\"+name+\"_hourly_generation.csv\", index_col = 0, squeeze = True)\n",
    "        Volume = pd.read_csv(name+\"/\"+name+\"_Volume.csv\", index_col = 0, squeeze = True)\n",
    "        \n",
    "    tec_aux = tec\n",
    "    if not(\"river\" in d.columns): tec_aux = list(set(tec_aux) - set([\"river\"]))\n",
    "    if not(\"lake\" in d.columns): tec_aux = list(set(tec_aux) - set([\"lake\"]))\n",
    "    \n",
    "    h  = 168*(week-1) + np.arange(1,169)\n",
    "    ymin, ymax = -45,130\n",
    "    h_ratio = np.ones(len(stor)+1)\n",
    "    h_ratio[0] = 2 # 1er subplot 2 fois plus grand\n",
    "    fig, axs = plt.subplots(len(stor)+1, figsize = (15,15),gridspec_kw={'height_ratios':h_ratio})\n",
    "    \n",
    "    # Stockage \n",
    "    sum_s = 0\n",
    "    for i in stor: \n",
    "        sum_s += d[\"Storage \" + i][h]\n",
    "    for s in stor[::-1]:\n",
    "        aux = \"Storage \" + s\n",
    "        axs[0].fill_between(h, sum_s, color = col[s], label = aux)\n",
    "        sum_s -= d[aux][h]\n",
    "\n",
    "    # Production\n",
    "    sum_g = 0\n",
    "    for i in tec_aux: \n",
    "        sum_g += d[i][h]\n",
    "    for gene in tec_aux[::-1]: \n",
    "        axs[0].fill_between(h,sum_g, color = col[gene], label = gene )\n",
    "        sum_g -= d[gene][h]\n",
    "    \n",
    "    # Demande\n",
    "    axs[0].plot(h, d[\"Electricity demand\"][h], color = 'r' , label = \"Demand\",linewidth= 4)\n",
    "\n",
    "    axs[0].vlines(x=np.linspace(h[0],h[-1],8),ymin = ymin, ymax = ymax,colors=\"black\",linestyle='dotted',linewidth=2)\n",
    "    axs[0].set_ylabel(\"Production (GWh)\")\n",
    "    axs[0].set_ylim(ymin,ymax)\n",
    "    axs[0].legend(loc =\"upper right\")\n",
    "    axs[0].set_title(\"Semaine \"+ str(week))\n",
    "        \n",
    "    for s in range(0,len(stor)):\n",
    "        axs[s+1].fill_between(h, d[\"Stored \" + stor[s]][h], color = col[stor[s]])\n",
    "        axs[s+1].hlines(y=Volume[s], xmin = h[0], xmax = h[-1], label = \"limit\", color = 'red')\n",
    "        axs[s+1].set_title(\"Stored \" + str(stor[s]))\n",
    "        axs[s+1].vlines(x=np.linspace(h[0],h[-1],8),ymin = 0, ymax = Volume[s]+10,colors=\"black\",linestyle='dotted',linewidth=2)\n",
    "        \n",
    "        \n",
    "def affichage(simu):\n",
    "    print(\" --- Q ---\")\n",
    "    for i in simu.model.Q:\n",
    "        print(i,\" : \",pyo.value(simu.model.Q[i]))   \n",
    "    print(\" --- S ---\")   \n",
    "    for i in simu.model.S:\n",
    "        print(i,\" : \",pyo.value(simu.model.S[i]))\n",
    "    print(\" --- volume ---\")\n",
    "    for i in simu.model.volume:\n",
    "        print(i,\" : \",pyo.value(simu.model.volume[i]))\n",
    "    print(\" --- cost --- \")\n",
    "    print(simu.cost())"
   ]
  },
  {
   "cell_type": "markdown",
   "id": "372066ae",
   "metadata": {},
   "source": [
    "##### Composition du mix énergétique en fonction de la demande : ADEME ou NégaWatt"
   ]
  },
  {
   "cell_type": "code",
   "execution_count": 13,
   "id": "39d3cc8c",
   "metadata": {},
   "outputs": [
    {
     "data": {
      "application/vnd.jupyter.widget-view+json": {
       "model_id": "cdfc7046aba542529f5663f7e3b3df64",
       "version_major": 2,
       "version_minor": 0
      },
      "text/plain": [
       "interactive(children=(IntText(value=1, description='week'), Dropdown(description='name', options=('simu_opti_a…"
      ]
     },
     "metadata": {},
     "output_type": "display_data"
    },
    {
     "data": {
      "text/plain": [
       "<function __main__.show_dossier(week, name)>"
      ]
     },
     "execution_count": 13,
     "metadata": {},
     "output_type": "execute_result"
    }
   ],
   "source": [
    "noms_simu = [\"simu_opti_ademe\", \"simu_opti_negawatt\",\"simu_opti_rte\"]\n",
    "# Dashboard\n",
    "interactive_plot = interact_manual(show_dossier, week=widgets.IntText(value = 1), name = noms_simu)\n",
    "interactive_plot"
   ]
  },
  {
   "cell_type": "markdown",
   "id": "4cfceef5",
   "metadata": {},
   "source": [
    "L'été on stocke l'énergie solaire en surplus la journée pour alimenter le réseau la nuit par PHS et batteries : court terme. On utilise également l'électricité générée par les barages.  \n",
    "L'hiver, l'énergie solaire est moins présente, on génère de l'électricité avec l'éolien et on utilise massivement le stockage par méthanation : long terme. "
   ]
  }
 ],
 "metadata": {
  "kernelspec": {
   "display_name": "Python 3",
   "language": "python",
   "name": "python3"
  },
  "language_info": {
   "codemirror_mode": {
    "name": "ipython",
    "version": 3
   },
   "file_extension": ".py",
   "mimetype": "text/x-python",
   "name": "python",
   "nbconvert_exporter": "python",
   "pygments_lexer": "ipython3",
   "version": "3.8.5"
  }
 },
 "nbformat": 4,
 "nbformat_minor": 5
}
